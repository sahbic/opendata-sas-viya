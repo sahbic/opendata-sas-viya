{
 "cells": [
  {
   "cell_type": "code",
   "execution_count": 1,
   "metadata": {},
   "outputs": [],
   "source": [
    "import os\n",
    "import pandas as pd\n",
    "import requests\n",
    "import zipfile\n",
    "\n",
    "\n",
    "os.chdir(\"/home/sahbic/Projects/opendata-sas-viya\")\n",
    "from src.utils import save_and_format_date, upload_save_table"
   ]
  },
  {
   "cell_type": "code",
   "execution_count": 32,
   "metadata": {},
   "outputs": [],
   "source": [
    "import pandas_datareader as dr\n",
    "from pandas_datareader import wb\n",
    "from datetime import date\n",
    "\n",
    "today = date.today()\n",
    "this_year = today.year\n",
    "\n",
    "data = wb.download(indicator='FP.CPI.TOTL.ZG', country='all', start=2010, end=this_year)\n",
    "data = data.reset_index(1)\n",
    "data.columns = ['year', 'inflation']\n",
    "inflation_data = data.reset_index()"
   ]
  },
  {
   "cell_type": "code",
   "execution_count": 33,
   "metadata": {},
   "outputs": [
    {
     "name": "stdout",
     "output_type": "stream",
     "text": [
      "[*********************100%***********************]  1 of 1 completed\n"
     ]
    }
   ],
   "source": [
    "# change date range here\n",
    "start_date = '2020-01-01'\n",
    "    \n",
    "import yfinance as yf\n",
    "\n",
    "# Set the ticker as 'EURUSD=X'\n",
    "forex_data = yf.download('EURUSD=X', start=start_date, end=today)\n",
    "\n",
    "# Set the index to a datetime object\n",
    "forex_data.index = pd.to_datetime(forex_data.index)\n",
    "\n",
    "# rename adj close to eurusd\n",
    "forex_data = forex_data.rename(columns={'Adj Close': 'eurusd'})\n",
    "\n",
    "# Keep only the close column\n",
    "forex_data = forex_data.reset_index()[['Date','eurusd']]"
   ]
  },
  {
   "cell_type": "code",
   "execution_count": null,
   "metadata": {},
   "outputs": [],
   "source": [
    "# load data in SAS Viya\n",
    "caslib = \"Opendata\"\n",
    "upload_save_table(catnat, conn, \"GASPAR_CATASTROPHES_NATURELLES\", caslib)\n",
    "upload_save_table(azi, conn, \"GASPAR_ATLAS_ZONES_INNONDABLES\", caslib)\n",
    "upload_save_table(risq, conn, \"GASPAR_RISQUES_MAJEURS\", caslib)"
   ]
  }
 ],
 "metadata": {
  "kernelspec": {
   "display_name": "venv",
   "language": "python",
   "name": "python3"
  },
  "language_info": {
   "codemirror_mode": {
    "name": "ipython",
    "version": 3
   },
   "file_extension": ".py",
   "mimetype": "text/x-python",
   "name": "python",
   "nbconvert_exporter": "python",
   "pygments_lexer": "ipython3",
   "version": "3.8.10"
  },
  "orig_nbformat": 4,
  "vscode": {
   "interpreter": {
    "hash": "9caf34a701c68df87961e478ac0d77eb584c21d3326d5a268a25dba06a7d97ca"
   }
  }
 },
 "nbformat": 4,
 "nbformat_minor": 2
}
